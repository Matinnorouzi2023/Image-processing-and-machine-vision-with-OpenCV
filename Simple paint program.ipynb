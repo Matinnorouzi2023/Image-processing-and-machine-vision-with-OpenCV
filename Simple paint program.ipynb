{
 "cells": [
  {
   "cell_type": "markdown",
   "id": "cc56e74b-bb0b-4593-952e-8ca76b26e634",
   "metadata": {},
   "source": [
    "# Exercise 6: Simple paint program\n",
    "\n",
    "Write a simple paint-like program that can change the font color and font size. Use the Trackbar to change the font size and font color. Have 4 trackbars that specify the three colors R, G, and B and the font size, respectively."
   ]
  },
  {
   "cell_type": "code",
   "execution_count": 1,
   "id": "ac4b2e54-7529-464c-992b-55f3b1bb55a1",
   "metadata": {},
   "outputs": [
    {
     "name": "stdout",
     "output_type": "stream",
     "text": [
      "Requirement already satisfied: opencv-python in c:\\users\\matin\\anaconda3\\lib\\site-packages (4.11.0.86)\n",
      "Requirement already satisfied: numpy>=1.21.2 in c:\\users\\matin\\anaconda3\\lib\\site-packages (from opencv-python) (1.26.4)\n",
      "Note: you may need to restart the kernel to use updated packages.\n"
     ]
    }
   ],
   "source": [
    "pip install opencv-python"
   ]
  },
  {
   "cell_type": "code",
   "execution_count": 2,
   "id": "87ff1ca2-3c9d-43d0-abd5-11723e15ac98",
   "metadata": {},
   "outputs": [
    {
     "name": "stdout",
     "output_type": "stream",
     "text": [
      "Requirement already satisfied: numpy in c:\\users\\matin\\anaconda3\\lib\\site-packages (1.26.4)\n",
      "Note: you may need to restart the kernel to use updated packages.\n"
     ]
    }
   ],
   "source": [
    "pip install numpy"
   ]
  },
  {
   "cell_type": "code",
   "execution_count": 3,
   "id": "59a0a6fd-d012-4d1f-afb9-1ef7a67c9da7",
   "metadata": {},
   "outputs": [
    {
     "name": "stdout",
     "output_type": "stream",
     "text": [
      "Requirement already satisfied: matplotlib in c:\\users\\matin\\anaconda3\\lib\\site-packages (3.10.0)\n",
      "Requirement already satisfied: contourpy>=1.0.1 in c:\\users\\matin\\anaconda3\\lib\\site-packages (from matplotlib) (1.2.0)\n",
      "Requirement already satisfied: cycler>=0.10 in c:\\users\\matin\\anaconda3\\lib\\site-packages (from matplotlib) (0.11.0)\n",
      "Requirement already satisfied: fonttools>=4.22.0 in c:\\users\\matin\\anaconda3\\lib\\site-packages (from matplotlib) (4.51.0)\n",
      "Requirement already satisfied: kiwisolver>=1.3.1 in c:\\users\\matin\\anaconda3\\lib\\site-packages (from matplotlib) (1.4.4)\n",
      "Requirement already satisfied: numpy>=1.23 in c:\\users\\matin\\anaconda3\\lib\\site-packages (from matplotlib) (1.26.4)\n",
      "Requirement already satisfied: packaging>=20.0 in c:\\users\\matin\\anaconda3\\lib\\site-packages (from matplotlib) (24.1)\n",
      "Requirement already satisfied: pillow>=8 in c:\\users\\matin\\anaconda3\\lib\\site-packages (from matplotlib) (10.4.0)\n",
      "Requirement already satisfied: pyparsing>=2.3.1 in c:\\users\\matin\\anaconda3\\lib\\site-packages (from matplotlib) (3.1.2)\n",
      "Requirement already satisfied: python-dateutil>=2.7 in c:\\users\\matin\\anaconda3\\lib\\site-packages (from matplotlib) (2.9.0.post0)\n",
      "Requirement already satisfied: six>=1.5 in c:\\users\\matin\\anaconda3\\lib\\site-packages (from python-dateutil>=2.7->matplotlib) (1.16.0)\n",
      "Note: you may need to restart the kernel to use updated packages.\n"
     ]
    }
   ],
   "source": [
    "pip install matplotlib"
   ]
  },
  {
   "cell_type": "code",
   "execution_count": 4,
   "id": "427e174e-2edd-4746-9bac-16683a95abb1",
   "metadata": {},
   "outputs": [],
   "source": [
    "import cv2\n",
    "import numpy as np\n",
    "\n",
    "# تابع خالی برای Trackbarها\n",
    "def nothing(x):\n",
    "    pass\n",
    "\n",
    "# تابع برای رسم با ماوس\n",
    "def draw(event, x, y, flags, param):\n",
    "    global drawing, prev_x, prev_y\n",
    "    \n",
    "    # وقتی دکمه چپ ماوس فشرده شد، شروع به رسم کن\n",
    "    if event == cv2.EVENT_LBUTTONDOWN:\n",
    "        drawing = True\n",
    "        prev_x, prev_y = x, y\n",
    "    \n",
    "    # وقتی ماوس حرکت می‌کند و دکمه فشرده است، خط بکش\n",
    "    elif event == cv2.EVENT_MOUSEMOVE:\n",
    "        if drawing:\n",
    "            r = cv2.getTrackbarPos('R', 'Paint Window')\n",
    "            g = cv2.getTrackbarPos('G', 'Paint Window')\n",
    "            b = cv2.getTrackbarPos('B', 'Paint Window')\n",
    "            thickness = cv2.getTrackbarPos('Thickness', 'Paint Window')\n",
    "            cv2.line(img, (prev_x, prev_y), (x, y), (b, g, r), max(thickness, 1))\n",
    "            prev_x, prev_y = x, y\n",
    "    \n",
    "    # وقتی دکمه رها شد، رسم را متوقف کن\n",
    "    elif event == cv2.EVENT_LBUTTONUP:\n",
    "        drawing = False\n",
    "\n",
    "# تصویر اولیه (سفید)\n",
    "img = np.ones((500, 700, 3), np.uint8) * 255  # صفحه سفید\n",
    "drawing = False  # متغیر برای وضعیت رسم\n",
    "prev_x, prev_y = -1, -1  # مختصات قبلی ماوس\n",
    "\n",
    "# ایجاد پنجره\n",
    "cv2.namedWindow('Paint Window')\n",
    "\n",
    "# ایجاد Trackbarها برای رنگ و اندازه قلم\n",
    "cv2.createTrackbar('R', 'Paint Window', 0, 255, nothing)  # قرمز\n",
    "cv2.createTrackbar('G', 'Paint Window', 0, 255, nothing)  # سبز\n",
    "cv2.createTrackbar('B', 'Paint Window', 0, 255, nothing)  # آبی\n",
    "cv2.createTrackbar('Thickness', 'Paint Window', 1, 50, nothing)  # اندازه قلم\n",
    "\n",
    "# اتصال تابع رسم به ماوس\n",
    "cv2.setMouseCallback('Paint Window', draw)\n",
    "\n",
    "# حلقه اصلی\n",
    "while True:\n",
    "    cv2.imshow('Paint Window', img)\n",
    "    key = cv2.waitKey(1) & 0xFF\n",
    "    \n",
    "    # خروج با فشار دادن کلید ESC\n",
    "    if key == 27:\n",
    "        break\n",
    "\n",
    "# بستن پنجره‌ها\n",
    "cv2.destroyAllWindows()"
   ]
  }
 ],
 "metadata": {
  "kernelspec": {
   "display_name": "Python 3 (ipykernel)",
   "language": "python",
   "name": "python3"
  },
  "language_info": {
   "codemirror_mode": {
    "name": "ipython",
    "version": 3
   },
   "file_extension": ".py",
   "mimetype": "text/x-python",
   "name": "python",
   "nbconvert_exporter": "python",
   "pygments_lexer": "ipython3",
   "version": "3.12.7"
  }
 },
 "nbformat": 4,
 "nbformat_minor": 5
}

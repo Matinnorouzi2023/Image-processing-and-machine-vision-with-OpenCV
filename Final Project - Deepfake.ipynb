{
 "cells": [
  {
   "cell_type": "markdown",
   "id": "c4f744fd-6a0c-4375-b77f-5f1f4f0ca5b3",
   "metadata": {},
   "source": [
    "# Final Project - Deepfake\n",
    "\n",
    "Try to do a simple deepfake. In this exercise, you have to swap faces in images that have two faces.\n",
    "\n",
    "You can use the following link:\n",
    "\n",
    "Face Swap using OpenCV ( C++ / Python ) :\n",
    "https://learnopencv.com/face-swap-using-opencv-c-python/\n",
    "\n",
    "In this exercise, you will use some of the previous lessons such as Seamless Cloning, but some concepts such as Triangulation will need to be studied."
   ]
  },
  {
   "cell_type": "markdown",
   "id": "fa392ee3-ccbf-49ae-a7a7-39dea925b5b6",
   "metadata": {},
   "source": [
    "# pip install opencv-python\n",
    "# pip install dlib\n",
    "# pip install imutils"
   ]
  },
  {
   "cell_type": "code",
   "execution_count": 1,
   "id": "502fa25b-e9da-488b-9819-e91d6a725e12",
   "metadata": {},
   "outputs": [
    {
     "name": "stdout",
     "output_type": "stream",
     "text": [
      "Requirement already satisfied: opencv-python in c:\\users\\matin\\anaconda3\\lib\\site-packages (4.11.0.86)\n",
      "Requirement already satisfied: numpy>=1.21.2 in c:\\users\\matin\\anaconda3\\lib\\site-packages (from opencv-python) (1.26.4)\n",
      "Note: you may need to restart the kernel to use updated packages.\n"
     ]
    }
   ],
   "source": [
    "pip install opencv-python"
   ]
  },
  {
   "cell_type": "code",
   "execution_count": 2,
   "id": "c72515e4-8377-40f5-847d-67b96092a230",
   "metadata": {},
   "outputs": [
    {
     "name": "stdout",
     "output_type": "stream",
     "text": [
      "Requirement already satisfied: dlib in c:\\users\\matin\\anaconda3\\lib\\site-packages (19.24.6)\n",
      "Note: you may need to restart the kernel to use updated packages.\n"
     ]
    }
   ],
   "source": [
    "pip install dlib"
   ]
  },
  {
   "cell_type": "code",
   "execution_count": 3,
   "id": "46646341-120c-4fec-bdf1-fa73364fd6e1",
   "metadata": {},
   "outputs": [
    {
     "name": "stdout",
     "output_type": "stream",
     "text": [
      "Collecting imutils\n",
      "  Downloading imutils-0.5.4.tar.gz (17 kB)\n",
      "  Preparing metadata (setup.py): started\n",
      "  Preparing metadata (setup.py): finished with status 'done'\n",
      "Building wheels for collected packages: imutils\n",
      "  Building wheel for imutils (setup.py): started\n",
      "  Building wheel for imutils (setup.py): finished with status 'done'\n",
      "  Created wheel for imutils: filename=imutils-0.5.4-py3-none-any.whl size=25891 sha256=9c1282cf6e93cb5b91b115af797236ef3dc034cf383ba1ac6c47d9eae1021780\n",
      "  Stored in directory: c:\\users\\matin\\appdata\\local\\pip\\cache\\wheels\\5b\\76\\96\\ad0c321506837bef578cf3008df3916c23018435a355d9f6b1\n",
      "Successfully built imutils\n",
      "Installing collected packages: imutils\n",
      "Successfully installed imutils-0.5.4\n",
      "Note: you may need to restart the kernel to use updated packages.\n"
     ]
    }
   ],
   "source": [
    "pip install imutils"
   ]
  },
  {
   "cell_type": "code",
   "execution_count": 11,
   "id": "037e7daa-e7c8-4a53-a655-e551eb710154",
   "metadata": {},
   "outputs": [],
   "source": [
    "import cv2\n",
    "import numpy as np\n",
    "import dlib\n",
    "\n",
    "# Load the detector and predictor from dlib\n",
    "detector = dlib.get_frontal_face_detector()\n",
    "predictor = dlib.shape_predictor(\"shape_predictor_68_face_landmarks.dat\")\n",
    "\n",
    "# Function to extract facial landmarks\n",
    "def get_landmarks(image):\n",
    "    gray = cv2.cvtColor(image, cv2.COLOR_BGR2GRAY)\n",
    "    faces = detector(gray)\n",
    "    if len(faces) == 0:\n",
    "        return None\n",
    "    landmarks = predictor(gray, faces[0])\n",
    "    points = [(landmarks.part(i).x, landmarks.part(i).y) for i in range(68)]\n",
    "    return np.array(points, dtype=np.int32)\n",
    "\n",
    "# Function to calculate Delaunay triangulation\n",
    "def calculate_delaunay_triangulation(points, convex_hull):\n",
    "    rect = cv2.boundingRect(convex_hull)\n",
    "    subdiv = cv2.Subdiv2D(rect)\n",
    "    subdiv.insert(points.tolist())\n",
    "    triangles = subdiv.getTriangleList()\n",
    "    return np.array(triangles, dtype=np.int32)\n",
    "\n",
    "# Function to warp triangles\n",
    "def warp_triangle(img1, img2, tri1, tri2):\n",
    "    # Find bounding box for each triangle\n",
    "    r1 = cv2.boundingRect(tri1)\n",
    "    r2 = cv2.boundingRect(tri2)\n",
    "\n",
    "    # Offset points by left top corner of the respective rectangles\n",
    "    tri1_cropped = []\n",
    "    tri2_cropped = []\n",
    "    for i in range(3):\n",
    "        tri1_cropped.append(((tri1[i][0] - r1[0]), (tri1[i][1] - r1[1])))\n",
    "        tri2_cropped.append(((tri2[i][0] - r2[0]), (tri2[i][1] - r2[1])))\n",
    "\n",
    "    # Apply warpAffine to small rectangular patches\n",
    "    img1_cropped = img1[r1[1]:r1[1] + r1[3], r1[0]:r1[0] + r1[2]]\n",
    "    warp_mat = cv2.getAffineTransform(np.float32(tri1_cropped), np.float32(tri2_cropped))\n",
    "    img2_cropped = cv2.warpAffine(img1_cropped, warp_mat, (r2[2], r2[3]), None, flags=cv2.INTER_LINEAR, borderMode=cv2.BORDER_REFLECT_101)\n",
    "\n",
    "    # Get mask for the triangle\n",
    "    mask = np.zeros((r2[3], r2[2], 3), dtype=np.float32)\n",
    "    cv2.fillConvexPoly(mask, np.int32(tri2_cropped), (1.0, 1.0, 1.0), 16, 0)\n",
    "\n",
    "    # Copy triangular region of the rectangular patch to the output image\n",
    "    img2_cropped = img2_cropped * mask\n",
    "\n",
    "    # Ensure data types are compatible before addition\n",
    "    img2_patch = img2[r2[1]:r2[1] + r2[3], r2[0]:r2[0] + r2[2]].astype(np.float32)\n",
    "    img2_patch = img2_patch * ((1.0, 1.0, 1.0) - mask)\n",
    "    img2_patch += img2_cropped\n",
    "\n",
    "    # Convert back to uint8 before assigning to img2\n",
    "    img2[r2[1]:r2[1] + r2[3], r2[0]:r2[0] + r2[2]] = img2_patch.astype(np.uint8)\n",
    "\n",
    "# Main function for face swap\n",
    "def face_swap(img1, img2):\n",
    "    # Get landmarks for both images\n",
    "    points1 = get_landmarks(img1)\n",
    "    points2 = get_landmarks(img2)\n",
    "\n",
    "    if points1 is None or points2 is None:\n",
    "        print(\"No faces detected!\")\n",
    "        return None\n",
    "\n",
    "    # Find convex hulls\n",
    "    hull1 = cv2.convexHull(points1)\n",
    "    hull2 = cv2.convexHull(points2)\n",
    "\n",
    "    # Check if convex hulls are valid\n",
    "    if hull1.size == 0 or hull2.size == 0:\n",
    "        print(\"Error: Convex hull calculation failed!\")\n",
    "        return None\n",
    "\n",
    "    # Calculate Delaunay triangulation\n",
    "    triangles = calculate_delaunay_triangulation(points1, hull1)\n",
    "\n",
    "    # Warp triangles from img1 to img2\n",
    "    img1_warped = np.copy(img2)\n",
    "    for t in triangles:\n",
    "        pt1 = (t[0], t[1])\n",
    "        pt2 = (t[2], t[3])\n",
    "        pt3 = (t[4], t[5])\n",
    "\n",
    "        # Find corresponding triangles in both images\n",
    "        tri1 = [points1[np.argmin(np.linalg.norm(points1 - pt, axis=1))] for pt in [pt1, pt2, pt3]]\n",
    "        tri2 = [points2[np.argmin(np.linalg.norm(points2 - pt, axis=1))] for pt in [pt1, pt2, pt3]]\n",
    "\n",
    "        # Warp triangles\n",
    "        warp_triangle(img1, img1_warped, np.array(tri1), np.array(tri2))\n",
    "\n",
    "    # Create mask for seamless cloning\n",
    "    try:\n",
    "        hull8U = [(p[0], p[1]) for p in hull2.reshape(-1, 2)]  # Ensure points are reshaped correctly\n",
    "    except IndexError:\n",
    "        print(\"Error: Invalid convex hull points!\")\n",
    "        return None\n",
    "\n",
    "    mask = np.zeros_like(img2[:, :, 0])\n",
    "    cv2.fillConvexPoly(mask, np.int32(hull8U), 255)\n",
    "\n",
    "    # Find center of the mask\n",
    "    try:\n",
    "        rect = cv2.boundingRect(np.float32(hull8U))  # Ensure hull8U is valid\n",
    "    except Exception as e:\n",
    "        print(f\"Error calculating bounding rectangle: {e}\")\n",
    "        return None\n",
    "\n",
    "    center = ((rect[0] + rect[2] // 2), (rect[1] + rect[3] // 2))\n",
    "\n",
    "    # Perform seamless cloning\n",
    "    output = cv2.seamlessClone(np.uint8(img1_warped), img2, mask, center, cv2.NORMAL_CLONE)\n",
    "\n",
    "    return output\n",
    "\n",
    "# Load images\n",
    "img1 = cv2.imread(\"D:/exam/Face1.jpg\")  # Source face\n",
    "img2 = cv2.imread(\"D:/exam/Face2.jpg\")  # Target face\n",
    "\n",
    "# Check if images are loaded successfully\n",
    "if img1 is None or img2 is None:\n",
    "    print(\"Error: Could not load one or both images!\")\n",
    "    exit()\n",
    "\n",
    "# Perform face swap\n",
    "result = face_swap(img1, img2)\n",
    "\n",
    "if result is not None:\n",
    "    # Display the result\n",
    "    cv2.imshow(\"Face Swapped\", result)\n",
    "    cv2.waitKey(0)\n",
    "    cv2.destroyAllWindows()\n",
    "\n",
    "    # Save the result\n",
    "    cv2.imwrite(\"face_swapped_result.jpg\", result)"
   ]
  },
  {
   "cell_type": "code",
   "execution_count": null,
   "id": "e72e6991-4a5a-4afb-8c02-1c01da01d9e3",
   "metadata": {},
   "outputs": [],
   "source": []
  }
 ],
 "metadata": {
  "kernelspec": {
   "display_name": "Python 3 (ipykernel)",
   "language": "python",
   "name": "python3"
  },
  "language_info": {
   "codemirror_mode": {
    "name": "ipython",
    "version": 3
   },
   "file_extension": ".py",
   "mimetype": "text/x-python",
   "name": "python",
   "nbconvert_exporter": "python",
   "pygments_lexer": "ipython3",
   "version": "3.12.7"
  }
 },
 "nbformat": 4,
 "nbformat_minor": 5
}

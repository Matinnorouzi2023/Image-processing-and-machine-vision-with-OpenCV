{
 "cells": [
  {
   "cell_type": "code",
   "execution_count": 1,
   "id": "e624fdd4-bf35-4ecd-86bc-ccd48442dbd9",
   "metadata": {},
   "outputs": [
    {
     "name": "stdout",
     "output_type": "stream",
     "text": [
      "Requirement already satisfied: opencv-python in c:\\users\\matin\\anaconda3\\lib\\site-packages (4.11.0.86)\n",
      "Requirement already satisfied: numpy>=1.21.2 in c:\\users\\matin\\anaconda3\\lib\\site-packages (from opencv-python) (1.26.4)\n",
      "Note: you may need to restart the kernel to use updated packages.\n"
     ]
    }
   ],
   "source": [
    "pip install opencv-python"
   ]
  },
  {
   "cell_type": "code",
   "execution_count": 2,
   "id": "a289a679-5e51-4263-89ca-b029c7b7536c",
   "metadata": {},
   "outputs": [
    {
     "name": "stdout",
     "output_type": "stream",
     "text": [
      "Requirement already satisfied: numpy in c:\\users\\matin\\anaconda3\\lib\\site-packages (1.26.4)\n",
      "Note: you may need to restart the kernel to use updated packages.\n"
     ]
    }
   ],
   "source": [
    "pip install numpy"
   ]
  },
  {
   "cell_type": "code",
   "execution_count": 3,
   "id": "53ea65a3-86c5-4c67-8e5d-417c58bf2e1e",
   "metadata": {},
   "outputs": [
    {
     "name": "stdout",
     "output_type": "stream",
     "text": [
      "Requirement already satisfied: matplotlib in c:\\users\\matin\\anaconda3\\lib\\site-packages (3.10.0)\n",
      "Requirement already satisfied: contourpy>=1.0.1 in c:\\users\\matin\\anaconda3\\lib\\site-packages (from matplotlib) (1.2.0)\n",
      "Requirement already satisfied: cycler>=0.10 in c:\\users\\matin\\anaconda3\\lib\\site-packages (from matplotlib) (0.11.0)\n",
      "Requirement already satisfied: fonttools>=4.22.0 in c:\\users\\matin\\anaconda3\\lib\\site-packages (from matplotlib) (4.51.0)\n",
      "Requirement already satisfied: kiwisolver>=1.3.1 in c:\\users\\matin\\anaconda3\\lib\\site-packages (from matplotlib) (1.4.4)\n",
      "Requirement already satisfied: numpy>=1.23 in c:\\users\\matin\\anaconda3\\lib\\site-packages (from matplotlib) (1.26.4)\n",
      "Requirement already satisfied: packaging>=20.0 in c:\\users\\matin\\anaconda3\\lib\\site-packages (from matplotlib) (24.1)\n",
      "Requirement already satisfied: pillow>=8 in c:\\users\\matin\\anaconda3\\lib\\site-packages (from matplotlib) (10.4.0)\n",
      "Requirement already satisfied: pyparsing>=2.3.1 in c:\\users\\matin\\anaconda3\\lib\\site-packages (from matplotlib) (3.1.2)\n",
      "Requirement already satisfied: python-dateutil>=2.7 in c:\\users\\matin\\anaconda3\\lib\\site-packages (from matplotlib) (2.9.0.post0)\n",
      "Requirement already satisfied: six>=1.5 in c:\\users\\matin\\anaconda3\\lib\\site-packages (from python-dateutil>=2.7->matplotlib) (1.16.0)\n",
      "Note: you may need to restart the kernel to use updated packages.\n"
     ]
    }
   ],
   "source": [
    "pip install matplotlib"
   ]
  },
  {
   "cell_type": "markdown",
   "id": "dcff8cda-4614-4bcb-9cdd-8a0095e5500f",
   "metadata": {},
   "source": []
  },
  {
   "cell_type": "code",
   "execution_count": 8,
   "id": "9dba5ab8-24a9-4122-8c9c-fbcee4f03d19",
   "metadata": {},
   "outputs": [
    {
     "name": "stdout",
     "output_type": "stream",
     "text": [
      "Image created\n",
      "Window and callback set\n",
      "Clicked at: (127, 191)\n",
      "Clicked at: (339, 250)\n",
      "Clicked at: (234, 311)\n",
      "Clicked at: (296, 162)\n",
      "Color changed to Red\n",
      "Clicked at: (205, 127)\n",
      "Clicked at: (245, 218)\n",
      "Clicked at: (328, 341)\n",
      "Clicked at: (130, 371)\n",
      "Color changed to Blue\n",
      "Clicked at: (421, 103)\n",
      "Clicked at: (184, 261)\n",
      "Clicked at: (304, 418)\n",
      "Clicked at: (440, 333)\n",
      "Exiting program\n",
      "Windows closed\n"
     ]
    }
   ],
   "source": [
    "import numpy as np\n",
    "import cv2\n",
    "\n",
    "# متغیرهای سراسری\n",
    "color = (0, 255, 0)  # رنگ اولیه (سبز)\n",
    "\n",
    "# تابع کالبک ماوس\n",
    "def draw_triangle(event, x, y, flags, param):\n",
    "    global img  # استفاده از تصویر سراسری\n",
    "    if event == cv2.EVENT_LBUTTONDOWN:\n",
    "        print(f\"Clicked at: ({x}, {y})\")  # دیباگ برای اطمینان از ثبت کلیک\n",
    "        # مختصات سه نقطه مثلث\n",
    "        points = np.array([[x, y - 30], [x - 30, y + 20], [x + 30, y + 20]], np.int32)\n",
    "        points = points.reshape((-1, 1, 2))\n",
    "        # رسم مثلث توپر\n",
    "        cv2.fillPoly(img, [points], color)\n",
    "        cv2.imshow('image', img)\n",
    "\n",
    "# ایجاد تصویر خالی\n",
    "img = np.zeros((512, 512, 3), np.uint8)\n",
    "print(\"Image created\")  # دیباگ برای اطمینان از ایجاد تصویر\n",
    "\n",
    "# ایجاد پنجره و اتصال تابع کالبک\n",
    "cv2.namedWindow('image')\n",
    "cv2.setMouseCallback('image', draw_triangle)\n",
    "print(\"Window and callback set\")  # دیباگ برای اطمینان از تنظیم پنجره\n",
    "\n",
    "# حلقه اصلی\n",
    "while True:\n",
    "    cv2.imshow('image', img)\n",
    "    k = cv2.waitKey(10) & 0xFF  # افزایش زمان انتظار به 10 میلی‌ثانیه\n",
    "    \n",
    "    # تغییر رنگ با دکمه‌های کیبورد\n",
    "    if k == ord('r'):\n",
    "        color = (0, 0, 255)\n",
    "        print(\"Color changed to Red\")\n",
    "    elif k == ord('g'):\n",
    "        color = (0, 255, 0)\n",
    "        print(\"Color changed to Green\")\n",
    "    elif k == ord('b'):\n",
    "        color = (255, 0, 0)\n",
    "        print(\"Color changed to Blue\")\n",
    "    elif k == 27:  # دکمه ESC برای خروج\n",
    "        print(\"Exiting program\")\n",
    "        break\n",
    "\n",
    "# بستن پنجره‌ها\n",
    "cv2.destroyAllWindows()\n",
    "print(\"Windows closed\")"
   ]
  },
  {
   "cell_type": "code",
   "execution_count": 11,
   "id": "3fc9adaf-a5d7-47dc-b79c-ded894fcc095",
   "metadata": {},
   "outputs": [
    {
     "name": "stdout",
     "output_type": "stream",
     "text": [
      "Image created\n",
      "Window and callback set\n",
      "Clicked at: (178, 202)\n",
      "Clicked at: (207, 306)\n",
      "Clicked at: (357, 272)\n",
      "Color changed to Red\n",
      "Clicked at: (338, 173)\n",
      "Clicked at: (261, 260)\n",
      "Clicked at: (340, 401)\n",
      "Clicked at: (134, 372)\n",
      "Clicked at: (90, 108)\n",
      "Color changed to Blue\n",
      "Clicked at: (219, 77)\n",
      "Clicked at: (432, 144)\n",
      "Clicked at: (479, 305)\n",
      "Clicked at: (29, 281)\n",
      "Clicked at: (255, 185)\n",
      "Exiting program\n",
      "Windows closed\n"
     ]
    },
    {
     "data": {
      "image/png": "[encoded data removed]",
      "text/plain": [
       "<Figure size 800x800 with 1 Axes>"
      ]
     },
     "metadata": {},
     "output_type": "display_data"
    }
   ],
   "source": [
    "import numpy as np\n",
    "import cv2\n",
    "import matplotlib.pyplot as plt\n",
    "\n",
    "# متغیرهای سراسری\n",
    "color = (0, 255, 0)  # رنگ اولیه (سبز)\n",
    "\n",
    "# تابع کالبک ماوس\n",
    "def draw_triangle(event, x, y, flags, param):\n",
    "    global img  # استفاده از تصویر سراسری\n",
    "    if event == cv2.EVENT_LBUTTONDOWN:\n",
    "        print(f\"Clicked at: ({x}, {y})\")  # دیباگ برای اطمینان از ثبت کلیک\n",
    "        # مختصات سه نقطه مثلث\n",
    "        points = np.array([[x, y - 30], [x - 30, y + 20], [x + 30, y + 20]], np.int32)\n",
    "        points = points.reshape((-1, 1, 2))\n",
    "        # رسم مثلث توپر\n",
    "        cv2.fillPoly(img, [points], color)\n",
    "        cv2.imshow('image', img)\n",
    "\n",
    "# ایجاد تصویر خالی\n",
    "img = np.zeros((512, 512, 3), np.uint8)\n",
    "print(\"Image created\")  # دیباگ برای اطمینان از ایجاد تصویر\n",
    "\n",
    "# ایجاد پنجره و اتصال تابع کالبک\n",
    "cv2.namedWindow('image')\n",
    "cv2.setMouseCallback('image', draw_triangle)\n",
    "print(\"Window and callback set\")  # دیباگ برای اطمینان از تنظیم پنجره\n",
    "\n",
    "# حلقه اصلی\n",
    "while True:\n",
    "    cv2.imshow('image', img)\n",
    "    k = cv2.waitKey(10) & 0xFF  # افزایش زمان انتظار به 10 میلی‌ثانیه\n",
    "    \n",
    "    # تغییر رنگ با دکمه‌های کیبورد\n",
    "    if k == ord('r'):\n",
    "        color = (0, 0, 255)\n",
    "        print(\"Color changed to Red\")\n",
    "    elif k == ord('g'):\n",
    "        color = (0, 255, 0)\n",
    "        print(\"Color changed to Green\")\n",
    "    elif k == ord('b'):\n",
    "        color = (255, 0, 0)\n",
    "        print(\"Color changed to Blue\")\n",
    "    elif k == 27:  # دکمه ESC برای خروج\n",
    "        print(\"Exiting program\")\n",
    "        break\n",
    "\n",
    "# بستن پنجره‌ها\n",
    "cv2.destroyAllWindows()\n",
    "print(\"Windows closed\")  # اصلاح خطا: حذف پرانتز اضافی و استفاده از سینتکس صحیح\n",
    "\n",
    "# نمایش تصویر نهایی در ژوپیتر با matplotlib\n",
    "plt.figure(figsize=(8, 8))  # تنظیم اندازه تصویر\n",
    "plt.imshow(img[...,::-1])  # تبدیل BGR به RGB برای نمایش صحیح رنگ‌ها\n",
    "plt.axis('off')  # حذف محورها\n",
    "plt.show()"
   ]
  },
  {
   "cell_type": "code",
   "execution_count": null,
   "id": "82d344c2-4e00-4b8c-93c0-d53dd47e67bc",
   "metadata": {},
   "outputs": [],
   "source": []
  }
 ],
 "metadata": {
  "kernelspec": {
   "display_name": "Python 3 (ipykernel)",
   "language": "python",
   "name": "python3"
  },
  "language_info": {
   "codemirror_mode": {
    "name": "ipython",
    "version": 3
   },
   "file_extension": ".py",
   "mimetype": "text/x-python",
   "name": "python",
   "nbconvert_exporter": "python",
   "pygments_lexer": "ipython3",
   "version": "3.12.7"
  }
 },
 "nbformat": 4,
 "nbformat_minor": 5
}
